{
 "cells": [
  {
   "cell_type": "markdown",
   "metadata": {},
   "source": [
    "# Trabajo Práctico 2: Análisis con Random Forest - Organización de Datos"
   ]
  },
  {
   "cell_type": "markdown",
   "metadata": {},
   "source": [
    "**Alumnos y Padrón**\n",
    "\n",
    "    - Enrique, Alvaro Castro - 103991\n",
    "    - Ivan, Conde - 102497\n",
    "    - Luizaga, Ricardo - 87528"
   ]
  },
  {
   "cell_type": "markdown",
   "metadata": {},
   "source": [
    "## Importamos las bibiliotecas necesarias"
   ]
  },
  {
   "cell_type": "code",
   "execution_count": 1,
   "metadata": {},
   "outputs": [
    {
     "name": "stdout",
     "output_type": "stream",
     "text": [
      "importing Jupyter notebook from FuncionesAux.ipynb\n"
     ]
    }
   ],
   "source": [
    "import seaborn as sns\n",
    "import pandas as pd\n",
    "import numpy as np\n",
    "from scipy.stats.mstats import winsorize\n",
    "from sklearn.model_selection import train_test_split\n",
    "from sklearn.model_selection import StratifiedKFold\n",
    "from sklearn.preprocessing import OneHotEncoder\n",
    "from sklearn.metrics import f1_score\n",
    "from sklearn.ensemble import RandomForestClassifier\n",
    "from sklearn.model_selection import GridSearchCV\n",
    "from matplotlib import pyplot as plt\n",
    "import import_ipynb\n",
    "from FuncionesAux import *"
   ]
  },
  {
   "cell_type": "markdown",
   "metadata": {},
   "source": [
    "## Importamos los datos y los preprocesamos"
   ]
  },
  {
   "cell_type": "markdown",
   "metadata": {},
   "source": [
    "**Leemos los datos que tenemos y llamamos a las funciones que se encargarán de dejar listos los datasets.**"
   ]
  },
  {
   "cell_type": "code",
   "execution_count": 2,
   "metadata": {},
   "outputs": [],
   "source": [
    "train_values,train_labels = obtenerDataTrain()\n",
    "train_values_subset = prepararDataSet(train_values)\n",
    "train_values_subset = dummyEncoding(train_values_subset)"
   ]
  },
  {
   "cell_type": "markdown",
   "metadata": {},
   "source": [
    "# Random Forest"
   ]
  },
  {
   "cell_type": "markdown",
   "metadata": {},
   "source": [
    "Random forest es un ensamble que consiste en el entrenamiento de varios clasificadores de árbol de decisión. \n",
    "\n",
    "Cada árbol del ensamble es construido a partir de una muestra simple con reposición del set de entrenamiento. Además se intenta forzar heterogeneidad entre los árboles al escoger el nodo principal de cada árbol a partir de un subconjunto aleatorio de los features. \n",
    "\n",
    "En la implementación de sci-kit learn, cada árbol indica la probabilidad de un feature de pertenecer a una clase. Para la predicción final se promedian estas probabilidades. "
   ]
  },
  {
   "cell_type": "markdown",
   "metadata": {},
   "source": [
    "### Random Forest"
   ]
  },
  {
   "cell_type": "markdown",
   "metadata": {},
   "source": [
    "##### Dividimos el set de datos en sets de training y test"
   ]
  },
  {
   "cell_type": "code",
   "execution_count": 3,
   "metadata": {},
   "outputs": [],
   "source": [
    "X_train, X_test, y_train, y_test = train_test_split(train_values_subset.values,train_labels.values.ravel())"
   ]
  },
  {
   "cell_type": "markdown",
   "metadata": {},
   "source": [
    "#### Expandimos el data set:"
   ]
  },
  {
   "cell_type": "code",
   "execution_count": 4,
   "metadata": {},
   "outputs": [],
   "source": [
    "train_values_subset = expandirDataSet(train_values_subset)"
   ]
  },
  {
   "cell_type": "markdown",
   "metadata": {},
   "source": [
    "##### Dividimos el set de datos expandido en sets de training y test"
   ]
  },
  {
   "cell_type": "code",
   "execution_count": 5,
   "metadata": {},
   "outputs": [],
   "source": [
    "X_train_exp, X_test_exp, y_train_exp, y_test_exp = train_test_split(train_values_subset.values,train_labels.values.ravel())"
   ]
  },
  {
   "cell_type": "markdown",
   "metadata": {},
   "source": [
    "### Buscamos los mejores parámetros"
   ]
  },
  {
   "cell_type": "markdown",
   "metadata": {},
   "source": [
    "##### Buscamos los mejores parametros para el dataset base"
   ]
  },
  {
   "cell_type": "code",
   "execution_count": null,
   "metadata": {},
   "outputs": [],
   "source": [
    "params = [\n",
    "    {\n",
    "        'n_estimators': [150],\n",
    "        'max_features' : [13],\n",
    "        'max_depth' : [7],\n",
    "    },\n",
    "]\n",
    "\n",
    "ArbolBase = RandomForestClassifier()\n",
    "gridBase = GridSearchCV(ArbolBase, params, n_jobs=-1)\n",
    "gridBase.fit(X_train, y_train)\n",
    "\n",
    "acc = gridBase.score(X_train, y_train)\n",
    "print(\"[INFO] grid search accuracy: {:.2f}%\".format(acc * 100))\n",
    "print(\"[INFO] grid search best parameters: {}\".format(gridBase.best_params_))"
   ]
  },
  {
   "cell_type": "markdown",
   "metadata": {},
   "source": [
    "##### Buscamos los mejores parametros para el dataset expandido"
   ]
  },
  {
   "cell_type": "code",
   "execution_count": 6,
   "metadata": {},
   "outputs": [
    {
     "name": "stdout",
     "output_type": "stream",
     "text": [
      "[INFO] grid search accuracy: 67.18%\n",
      "[INFO] grid search best parameters: {'max_depth': 7, 'max_features': 13, 'n_estimators': 150}\n"
     ]
    }
   ],
   "source": [
    "params = [\n",
    "    {\n",
    "        'n_estimators': [150],\n",
    "        'max_features' : [13],\n",
    "        'max_depth' : [7],\n",
    "    },\n",
    "]\n",
    "\n",
    "ArbolExp = RandomForestClassifier()\n",
    "gridExp = GridSearchCV(ArbolExp, params, n_jobs=-1)\n",
    "gridExp.fit(X_train_exp, y_train_exp)\n",
    "\n",
    "acc = gridExp.score(X_train_exp, y_train_exp)\n",
    "print(\"[INFO] grid search accuracy: {:.2f}%\".format(acc * 100))\n",
    "print(\"[INFO] grid search best parameters: {}\".format(gridExp.best_params_))"
   ]
  },
  {
   "cell_type": "markdown",
   "metadata": {},
   "source": [
    "### Evaluamos las métricas"
   ]
  },
  {
   "cell_type": "markdown",
   "metadata": {},
   "source": [
    "##### Utilizando el dataset base"
   ]
  },
  {
   "cell_type": "code",
   "execution_count": null,
   "metadata": {},
   "outputs": [],
   "source": [
    "ArbolBase = RandomForestClassifier(max_depth=gridBase.best_params_[\"max_depth\"],\\\n",
    "                                          max_features=gridBase.best_params_[\"max_features\"],\\\n",
    "                                          n_estimators=gridBase.best_params_[\"n_estimators\"])\n",
    "ArbolBase.fit(X_train, y_train)\n",
    "preds = ArbolBase.predict(X_test)\n",
    "f1_score(y_test, preds, average='micro')"
   ]
  },
  {
   "cell_type": "markdown",
   "metadata": {},
   "source": [
    "##### Utilizando el dataset expandido"
   ]
  },
  {
   "cell_type": "code",
   "execution_count": 7,
   "metadata": {},
   "outputs": [
    {
     "data": {
      "text/plain": [
       "0.666405734370923"
      ]
     },
     "execution_count": 7,
     "metadata": {},
     "output_type": "execute_result"
    }
   ],
   "source": [
    "ArbolExp = RandomForestClassifier(max_depth=gridExp.best_params_[\"max_depth\"],\\\n",
    "                                          max_features=gridExp.best_params_[\"max_features\"],\\\n",
    "                                          n_estimators=gridExp.best_params_[\"n_estimators\"])\n",
    "ArbolExp.fit(X_train_exp, y_train_exp)\n",
    "preds = ArbolExp.predict(X_test_exp)\n",
    "f1_score(y_test_exp, preds, average='micro')"
   ]
  },
  {
   "cell_type": "markdown",
   "metadata": {},
   "source": [
    "## Predicciones sobre el nuevo archivo"
   ]
  },
  {
   "cell_type": "markdown",
   "metadata": {},
   "source": [
    "Obtenemos y preparamos el nuevo archivo realizando el mismo preprocesamiento hecho anteriormente."
   ]
  },
  {
   "cell_type": "markdown",
   "metadata": {},
   "source": [
    "Dado que obtuvimos mejores resultados utilizando el dataset expandido y con los parametros encontrados mediante  Gridsearch será este el que utilizaremos para predecir sobre el nuevo archivo."
   ]
  },
  {
   "cell_type": "code",
   "execution_count": 8,
   "metadata": {
    "scrolled": true
   },
   "outputs": [],
   "source": [
    "test_values = obtenerDataTest()\n",
    "test_values_subset = prepararDataSet(test_values)\n",
    "test_values_subset = dummyEncoding(test_values_subset)\n",
    "test_values_subset = expandirDataSet(test_values_subset)"
   ]
  },
  {
   "cell_type": "code",
   "execution_count": 9,
   "metadata": {},
   "outputs": [],
   "source": [
    "predictions = ArbolExp.predict(test_values_subset)"
   ]
  },
  {
   "cell_type": "code",
   "execution_count": 10,
   "metadata": {},
   "outputs": [],
   "source": [
    "submission_format = pd.read_csv('submission_format.csv', index_col='building_id')\n",
    "my_submission = pd.DataFrame(data=predictions,\n",
    "                             columns=submission_format.columns,\n",
    "                             index=submission_format.index)\n",
    "my_submission.to_csv('submission.csv')"
   ]
  },
  {
   "cell_type": "code",
   "execution_count": 24,
   "metadata": {},
   "outputs": [
    {
     "data": {
      "image/png": "[encoded data removed]",
      "text/plain": [
       "<Figure size 720x1080 with 1 Axes>"
      ]
     },
     "metadata": {
      "needs_background": "light"
     },
     "output_type": "display_data"
    }
   ],
   "source": [
    "plt.figure(figsize=(10,15))\n",
    "sorted_idx = ArbolExp.feature_importances_.argsort()\n",
    "plt.barh(train_values_subset.columns[sorted_idx], ArbolExp.feature_importances_[sorted_idx])\n",
    "plt.xlabel(\"Random Forest Feature Importance\")\n",
    "plt.savefig(\"squares.png\")"
   ]
  },
  {
   "cell_type": "code",
   "execution_count": null,
   "metadata": {},
   "outputs": [],
   "source": []
  }
 ],
 "metadata": {
  "kernelspec": {
   "display_name": "Python 3",
   "language": "python",
   "name": "python3"
  },
  "language_info": {
   "codemirror_mode": {
    "name": "ipython",
    "version": 3
   },
   "file_extension": ".py",
   "mimetype": "text/x-python",
   "name": "python",
   "nbconvert_exporter": "python",
   "pygments_lexer": "ipython3",
   "version": "3.8.8"
  }
 },
 "nbformat": 4,
 "nbformat_minor": 4
}
